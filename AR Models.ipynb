{
 "cells": [
  {
   "cell_type": "markdown",
   "id": "f8e7086e-6ced-44d5-acae-f59f2d316728",
   "metadata": {},
   "source": [
    "# Modules used in this project"
   ]
  },
  {
   "cell_type": "code",
   "execution_count": null,
   "id": "6c9012bf-e09b-474e-a758-43edbecfa4d8",
   "metadata": {},
   "outputs": [],
   "source": [
    "# standard libraries\n",
    "import os\n",
    "import time\n",
    "from datetime import datetime\n",
    "import itertools\n",
    "from itertools import chain, combinations\n",
    "import warnings\n",
    "warnings.filterwarnings('ignore')\n",
    "\n",
    "# data analysis and manipulation\n",
    "import pandas as pd\n",
    "from pandas.plotting import scatter_matrix\n",
    "import numpy as np\n",
    "\n",
    "# data visualization\n",
    "import matplotlib.pyplot as plt\n",
    "import seaborn as sns\n",
    "\n",
    "# machine learning and model selection\n",
    "from sklearn.model_selection import train_test_split, TimeSeriesSplit, ParameterGrid\n",
    "from sklearn.tree import DecisionTreeRegressor\n",
    "from sklearn.ensemble import RandomForestRegressor, ExtraTreesRegressor\n",
    "from sklearn.metrics import mean_squared_error, mean_absolute_error\n",
    "import xgboost as xgb\n",
    "from xgboost import XGBRegressor\n",
    "\n",
    "# statistical tools and analysis\n",
    "from scipy.stats import pearsonr, shapiro\n",
    "from statsmodels.stats.diagnostic import acorr_ljungbox\n",
    "from statsmodels.tsa.ar_model import AutoReg\n",
    "from statsmodels.tsa.stattools import adfuller\n",
    "from statsmodels.graphics.tsaplots import plot_acf, plot_pacf\n",
    "\n",
    "# APIs and requests\n",
    "import requests\n",
    "import json\n",
    "\n",
    "import time\n",
    "\n",
    "import functions"
   ]
  },
  {
   "cell_type": "markdown",
   "id": "ba1fac24-a592-4208-b9ed-a867717534b4",
   "metadata": {},
   "source": [
    "# Getting the data"
   ]
  },
  {
   "cell_type": "code",
   "execution_count": null,
   "id": "1a0ac915-71ef-43e0-9d8d-832cfcfe6232",
   "metadata": {},
   "outputs": [],
   "source": [
    "criptos = pd.read_csv(r\"C:\\Users\\Caio\\Documents\\Documentos\\IC - Cripto\\input_data\\criptos_final.csv\", \n",
    "                      delimiter = \",\", index_col = 'date_hour')"
   ]
  },
  {
   "cell_type": "code",
   "execution_count": null,
   "id": "d1df3591-210e-47c3-9564-bc180efb9e6b",
   "metadata": {},
   "outputs": [],
   "source": [
    "criptos_diff = pd.read_csv(r\"C:\\Users\\Caio\\Documents\\Documentos\\IC - Cripto\\input_data\\criptos_diff_final.csv\", \n",
    "                      delimiter = \",\", index_col = 'date_hour')"
   ]
  },
  {
   "cell_type": "markdown",
   "id": "91d70fb0-ae36-45bc-9db5-19717762aa06",
   "metadata": {},
   "source": [
    "## AR Models"
   ]
  },
  {
   "cell_type": "code",
   "execution_count": null,
   "id": "5dd06d40-af62-463c-827e-4574ab3b2834",
   "metadata": {},
   "outputs": [],
   "source": [
    "LAGS = [1]\n",
    "STARTING_POINT = 0.8"
   ]
  },
  {
   "cell_type": "code",
   "execution_count": null,
   "id": "cde2ac3c-3712-4679-a925-675348fd386b",
   "metadata": {
    "scrolled": true
   },
   "outputs": [],
   "source": [
    "performance, residuals = functions.fit_ar_model(criptos_diff, starting_point_percent = STARTING_POINT, lags_list = LAGS)"
   ]
  },
  {
   "cell_type": "code",
   "execution_count": null,
   "id": "ac99aaac-2bc5-4db8-9d67-11205cf436c5",
   "metadata": {},
   "outputs": [],
   "source": [
    "performance.to_excel(r\"C:\\Users\\Caio\\Documents\\Documentos\\IC - Cripto\\output_data\\ar_performance_table.xlsx\")"
   ]
  },
  {
   "cell_type": "code",
   "execution_count": null,
   "id": "cd5d3a7c-bd24-4c7a-b195-6f550015a4b2",
   "metadata": {},
   "outputs": [],
   "source": [
    "residuals.to_excel(r\"C:\\Users\\Caio\\Documents\\Documentos\\IC - Cripto\\output_data\\residuals\\residuals_ar_simple.xlsx\")"
   ]
  },
  {
   "cell_type": "markdown",
   "id": "a2ad46c3-e251-4245-a804-9ceff53ea42d",
   "metadata": {},
   "source": [
    "## Adding exogenous variables"
   ]
  },
  {
   "cell_type": "code",
   "execution_count": null,
   "id": "d6d2c0bf-8429-433a-bb8b-98852067719b",
   "metadata": {
    "scrolled": true
   },
   "outputs": [],
   "source": [
    "performance_exog, residuals_exog = functions.fit_ar_model_exog(df = criptos_diff, target_column = 'Bitcoin', starting_point_percent = STARTING_POINT, lags_list = LAGS)"
   ]
  },
  {
   "cell_type": "code",
   "execution_count": null,
   "id": "9c2d3cd6-36c7-4425-9a68-e772fa64f102",
   "metadata": {},
   "outputs": [],
   "source": [
    "performance_exog.to_excel(r\"C:\\Users\\Caio\\Documents\\Documentos\\IC - Cripto\\output_data\\ar_exog_performance_table.xlsx\")"
   ]
  },
  {
   "cell_type": "markdown",
   "id": "195de956-ef74-438c-963c-14bfac614585",
   "metadata": {},
   "source": [
    "## Using logs"
   ]
  },
  {
   "cell_type": "code",
   "execution_count": null,
   "id": "d4f1f7b3-8406-4076-9562-64da5fdf6c6f",
   "metadata": {},
   "outputs": [],
   "source": [
    "criptos_log = np.log(criptos)"
   ]
  },
  {
   "cell_type": "code",
   "execution_count": null,
   "id": "7e852887-7ccf-455f-a83f-553900d42aba",
   "metadata": {},
   "outputs": [],
   "source": [
    "criptos_log_diff = criptos_log - criptos_log.shift(1)\n",
    "criptos_log_diff = criptos_log_diff.dropna()"
   ]
  },
  {
   "cell_type": "markdown",
   "id": "94504fa1-25dc-4268-968b-041be1850c2c",
   "metadata": {},
   "source": [
    "### Simple AR(1) models"
   ]
  },
  {
   "cell_type": "code",
   "execution_count": null,
   "id": "4f23d699-bea7-4000-9720-69373bbe5bc0",
   "metadata": {},
   "outputs": [],
   "source": [
    "performance_log, residuals_log = functions.fit_ar_model(criptos_log_diff, starting_point_percent = STARTING_POINT, lags_list = LAGS)"
   ]
  },
  {
   "cell_type": "code",
   "execution_count": null,
   "id": "589344d9-8d08-4acc-8c53-a2059a751990",
   "metadata": {},
   "outputs": [],
   "source": [
    "performance_log.to_excel(r\"C:\\Users\\Caio\\Documents\\Documentos\\IC - Cripto\\output_data\\ar_log_performance_table.xlsx\")"
   ]
  },
  {
   "cell_type": "markdown",
   "id": "798a0012-889b-4a32-b229-965627543cfc",
   "metadata": {},
   "source": [
    "### Exogenous"
   ]
  },
  {
   "cell_type": "code",
   "execution_count": null,
   "id": "d2b3127c-399f-4ace-bbeb-e317a00a8bb7",
   "metadata": {},
   "outputs": [],
   "source": [
    "performance_exog_log, residuals_exog_log = functions.fit_ar_model_exog(df = criptos_log_diff, target_column = 'Bitcoin', starting_point_percent = STARTING_POINT, lags_list = LAGS)"
   ]
  },
  {
   "cell_type": "code",
   "execution_count": null,
   "id": "c765d0c3-0612-40a4-b319-3d8908323124",
   "metadata": {},
   "outputs": [],
   "source": [
    "performance_exog_log.to_excel(r\"C:\\Users\\Caio\\Documents\\Documentos\\IC - Cripto\\output_data\\ar_exog_log_performance_table.xlsx\")"
   ]
  },
  {
   "cell_type": "markdown",
   "id": "0c4e33e4-d954-4b3f-823a-69bc5740bd8f",
   "metadata": {},
   "source": [
    "## Residual analysis"
   ]
  },
  {
   "cell_type": "code",
   "execution_count": null,
   "id": "5ca7c1a1-bd0d-4e80-bf23-78e1bd101e28",
   "metadata": {},
   "outputs": [],
   "source": [
    "residuals = residuals.iloc[:,:5]"
   ]
  },
  {
   "cell_type": "code",
   "execution_count": null,
   "id": "b16a53f6-29c1-4ed6-92e4-130e4086f9ae",
   "metadata": {},
   "outputs": [],
   "source": [
    "residuals_exog =  residuals_exog.iloc[:, :4]"
   ]
  },
  {
   "cell_type": "code",
   "execution_count": null,
   "id": "8c0d7bde-1ecb-48e8-81ca-05f3ab56e6a2",
   "metadata": {},
   "outputs": [],
   "source": [
    "residuals_exog_log = residuals_exog_log.iloc[:, :4]"
   ]
  },
  {
   "cell_type": "markdown",
   "id": "4e57c6c3-e275-40ff-b005-bef4c81d22a3",
   "metadata": {},
   "source": [
    "### Scatter plot"
   ]
  },
  {
   "cell_type": "code",
   "execution_count": null,
   "id": "e36f2424-bc60-4dcc-a83f-52e31c0c401e",
   "metadata": {},
   "outputs": [],
   "source": [
    "sns.pairplot(residuals_exog)\n",
    "\n",
    "plt.tight_layout()"
   ]
  },
  {
   "cell_type": "code",
   "execution_count": null,
   "id": "66293992-cd86-4f55-ae91-d295c7bf4bb8",
   "metadata": {},
   "outputs": [],
   "source": [
    "sns.pairplot(residuals_log)\n",
    "\n",
    "plt.tight_layout()"
   ]
  },
  {
   "cell_type": "code",
   "execution_count": null,
   "id": "94788e6e-29a0-4738-a6f7-101bac26d0f3",
   "metadata": {},
   "outputs": [],
   "source": [
    "sns.pairplot(residuals_exog_log)\n",
    "\n",
    "plt.tight_layout()"
   ]
  },
  {
   "cell_type": "markdown",
   "id": "382e9493-f284-4093-9e73-72bdb63166c7",
   "metadata": {},
   "source": [
    "### Residuals Evolution in Time"
   ]
  },
  {
   "cell_type": "code",
   "execution_count": null,
   "id": "915d5d13-2090-4537-8b81-a502f390dadf",
   "metadata": {},
   "outputs": [],
   "source": [
    "functions.plot_residuals(residuals)"
   ]
  },
  {
   "cell_type": "code",
   "execution_count": null,
   "id": "4fe33691-d334-479c-8e21-26d9dc7de547",
   "metadata": {},
   "outputs": [],
   "source": [
    "functions.plot_residuals(residuals_exog)"
   ]
  },
  {
   "cell_type": "code",
   "execution_count": null,
   "id": "546c3a52-3c49-49c5-8924-716afa0957a8",
   "metadata": {},
   "outputs": [],
   "source": [
    "functions.plot_residuals(residuals_log)"
   ]
  },
  {
   "cell_type": "code",
   "execution_count": null,
   "id": "c62974a2-0ff0-488d-b1bc-0c6f92e26ce5",
   "metadata": {},
   "outputs": [],
   "source": [
    "functions.plot_residuals(residuals_exog_log)"
   ]
  }
 ],
 "metadata": {
  "kernelspec": {
   "display_name": "Python 3 (ipykernel)",
   "language": "python",
   "name": "python3"
  },
  "language_info": {
   "codemirror_mode": {
    "name": "ipython",
    "version": 3
   },
   "file_extension": ".py",
   "mimetype": "text/x-python",
   "name": "python",
   "nbconvert_exporter": "python",
   "pygments_lexer": "ipython3",
   "version": "3.13.0"
  }
 },
 "nbformat": 4,
 "nbformat_minor": 5
}
