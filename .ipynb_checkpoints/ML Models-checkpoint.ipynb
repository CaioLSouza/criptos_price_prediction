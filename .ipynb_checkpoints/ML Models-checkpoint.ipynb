{
 "cells": [
  {
   "cell_type": "markdown",
   "id": "63db8333-f06f-47a1-b316-ef03e454835d",
   "metadata": {},
   "source": [
    "# Modules used in this project"
   ]
  },
  {
   "cell_type": "code",
   "execution_count": null,
   "id": "5363c1ec-934f-4cc1-971e-4c3f5b7ff573",
   "metadata": {},
   "outputs": [],
   "source": [
    "# standard libraries\n",
    "import os\n",
    "import time\n",
    "from datetime import datetime\n",
    "import itertools\n",
    "from itertools import chain, combinations\n",
    "import warnings\n",
    "warnings.filterwarnings('ignore')\n",
    "\n",
    "# data analysis and manipulation\n",
    "import pandas as pd\n",
    "from pandas.plotting import scatter_matrix\n",
    "import numpy as np\n",
    "\n",
    "# data visualization\n",
    "import matplotlib.pyplot as plt\n",
    "import seaborn as sns\n",
    "\n",
    "# machine learning and model selection\n",
    "from sklearn.model_selection import train_test_split, TimeSeriesSplit, ParameterGrid\n",
    "from sklearn.tree import DecisionTreeRegressor\n",
    "from sklearn.ensemble import RandomForestRegressor, ExtraTreesRegressor\n",
    "from sklearn.metrics import mean_squared_error, mean_absolute_error\n",
    "import xgboost as xgb\n",
    "from xgboost import XGBRegressor\n",
    "\n",
    "# statistical tools and analysis\n",
    "from scipy.stats import pearsonr, shapiro\n",
    "from statsmodels.stats.diagnostic import acorr_ljungbox\n",
    "from statsmodels.tsa.ar_model import AutoReg\n",
    "from statsmodels.tsa.stattools import adfuller\n",
    "from statsmodels.graphics.tsaplots import plot_acf, plot_pacf\n",
    "\n",
    "# APIs and requests\n",
    "import requests\n",
    "import json\n",
    "\n",
    "import time\n",
    "\n",
    "import functions"
   ]
  },
  {
   "cell_type": "markdown",
   "id": "d52c9815-460e-4886-a0a3-f621fb856bd8",
   "metadata": {},
   "source": [
    "# Getting the data"
   ]
  },
  {
   "cell_type": "code",
   "execution_count": null,
   "id": "93bddec4-b4c2-4c81-be56-b710bf5a3ac9",
   "metadata": {},
   "outputs": [],
   "source": [
    "criptos = pd.read_csv(r\"C:\\Users\\Caio\\Documents\\Documentos\\IC - Cripto\\input_data\\criptos_final.csv\", \n",
    "                      delimiter = \",\", index_col = 'date_hour')"
   ]
  },
  {
   "cell_type": "code",
   "execution_count": null,
   "id": "c3d68f03-2cee-44b6-8b71-1cb74eb5f0a3",
   "metadata": {},
   "outputs": [],
   "source": [
    "criptos_diff = pd.read_csv(r\"C:\\Users\\Caio\\Documents\\Documentos\\IC - Cripto\\input_data\\criptos_diff_final.csv\", \n",
    "                      delimiter = \",\", index_col = 'date_hour')"
   ]
  },
  {
   "cell_type": "markdown",
   "id": "7db2d817-340f-437e-ba90-4001b603d04a",
   "metadata": {},
   "source": [
    "## ML models"
   ]
  },
  {
   "cell_type": "markdown",
   "id": "a7f1e025-114c-4434-b6c3-e92434b65e2b",
   "metadata": {},
   "source": [
    "## Model validation"
   ]
  },
  {
   "cell_type": "code",
   "execution_count": null,
   "id": "13b63591-6671-4ba2-aa14-b36d45fe154a",
   "metadata": {},
   "outputs": [],
   "source": [
    "decision_tree = {\n",
    "    \"Decision Tree\": {\n",
    "        \"model\": DecisionTreeRegressor(random_state=42),\n",
    "        \"params\": {\n",
    "            \"splitter\": [\"best\"],\n",
    "            \"max_depth\": [int(3), int(5), int(10), int(50)],\n",
    "            \"min_samples_split\": [int(2), int(5),  int(50)],\n",
    "            \"min_samples_leaf\": [int(1), int(2), int(10)],\n",
    "            \"max_features\": [\"sqrt\"],\n",
    "            \"max_leaf_nodes\": [int(10), int(20), int(50), int(100)],\n",
    "        }\n",
    "    }}"
   ]
  },
  {
   "cell_type": "code",
   "execution_count": null,
   "id": "4d24c013-ef46-4ef6-a13f-4a65de0de033",
   "metadata": {},
   "outputs": [],
   "source": [
    "rf = {\"Random Forest\": {\n",
    "        \"model\": RandomForestRegressor(random_state=42),\n",
    "        \"params\": {\n",
    "            \"n_estimators\": [int(100), int(300)],\n",
    "            \"max_depth\": [int(5), int(30)],\n",
    "            \"min_samples_split\": [int(2), int(20)],\n",
    "            \"min_samples_leaf\": [int(2), int(6)],\n",
    "            \"bootstrap\": [False],  \n",
    "            \"oob_score\": [False],\n",
    "        }\n",
    "    }}"
   ]
  },
  {
   "cell_type": "code",
   "execution_count": null,
   "id": "2de12e87-717a-4156-904e-879f721523ad",
   "metadata": {},
   "outputs": [],
   "source": [
    "rf_2 = {\n",
    "    \"Random Forest\": {\n",
    "        \"model\": RandomForestRegressor(random_state=42),\n",
    "        \"params\": {\n",
    "            \"n_estimators\": [int(100), int(200), int(300), int(500)],  # Aumentado o número de estimadores\n",
    "            \"max_depth\": [int(5), int(10), int(20), int(30), int(40)],  # Aumentado o intervalo de profundidade máxima\n",
    "            \"min_samples_split\": [int(2), int(5), int(10), int(15), int(20)],  # Mais valores para divisão mínima\n",
    "            \"min_samples_leaf\": [int(1), int(2), int(4), int(6)],  # Adicionando mais valores de folhas mínimas\n",
    "            \"bootstrap\": [True, False],  # Testando bootstrap\n",
    "            \"oob_score\": [False],  # Mantido fixo, pois o bootstrap=False\n",
    "            \"max_features\": ['sqrt', 'log2'],  # Adicionando max_features para mais variação\n",
    "        }\n",
    "    }\n",
    "}\n"
   ]
  },
  {
   "cell_type": "code",
   "execution_count": null,
   "id": "2428cd49-d7b0-473b-8400-a7ec48e65fa3",
   "metadata": {},
   "outputs": [],
   "source": [
    "xgb = {\"XGBoost\": {\n",
    "        \"model\": XGBRegressor(random_state=42),\n",
    "        \"params\": {\n",
    "            \"n_estimators\": [int(100), int(500)],\n",
    "            \"max_depth\": [int(3), int(15)],\n",
    "            \"learning_rate\": [0.001, 0.01, 0.1],\n",
    "            \"subsample\": [0.7, 1.0],\n",
    "            \"colsample_bytree\": [0.7,  1.0],\n",
    "            \"gamma\": [0.1, 0.3],\n",
    "            \"reg_alpha\": [0.1, 1],\n",
    "            \"reg_lambda\": [0.1,  1],\n",
    "            \"min_child_weight\": [int(1), int(5)]\n",
    "        }\n",
    "}}"
   ]
  },
  {
   "cell_type": "markdown",
   "id": "329e1e49-e3f4-4ca9-943c-01f3a5f9750d",
   "metadata": {},
   "source": [
    "## 1 lag models"
   ]
  },
  {
   "cell_type": "markdown",
   "id": "925fca8c-8ac1-476f-bb1c-d839635efd56",
   "metadata": {},
   "source": [
    "### Decision Tree"
   ]
  },
  {
   "cell_type": "code",
   "execution_count": null,
   "id": "e7ace839-0689-4cc2-8762-85b280eb18d6",
   "metadata": {
    "scrolled": true
   },
   "outputs": [],
   "source": [
    "one_lag_results_tree = functions.optimize_and_evaluate_one_lag(criptos_diff, decision_tree)"
   ]
  },
  {
   "cell_type": "code",
   "execution_count": null,
   "id": "89938e9c-59e6-4f6b-a24d-5a1265cddbb5",
   "metadata": {},
   "outputs": [],
   "source": [
    "one_lag_results_tree.to_excel(r\"C:\\Users\\Caio\\Documents\\Documentos\\IC - Cripto\\output_data\\results_tree_ml.xlsx\")"
   ]
  },
  {
   "cell_type": "markdown",
   "id": "9af1e427-7a33-4276-908d-0328d241dd56",
   "metadata": {},
   "source": [
    "### Random Forest"
   ]
  },
  {
   "cell_type": "code",
   "execution_count": null,
   "id": "1215591c-6afb-44cb-a052-2e7a1d8852f2",
   "metadata": {
    "scrolled": true
   },
   "outputs": [],
   "source": [
    "one_lag_results_rf = functions.optimize_and_evaluate_one_lag(criptos_diff, rf)"
   ]
  },
  {
   "cell_type": "code",
   "execution_count": null,
   "id": "37633e39-4332-4e3f-b954-0ca9014cbfe2",
   "metadata": {},
   "outputs": [],
   "source": [
    "one_lag_results_rf.to_excel(r\"C:\\Users\\Caio\\Documents\\Documentos\\IC - Cripto\\output_data\\results_rf_ml.xlsx\")"
   ]
  },
  {
   "cell_type": "markdown",
   "id": "d63d550c-2265-4c56-80d8-c03d4019a28b",
   "metadata": {},
   "source": [
    "### Xgboost"
   ]
  },
  {
   "cell_type": "code",
   "execution_count": null,
   "id": "a81e574e-1b9c-425a-92a9-042af1a9ac7a",
   "metadata": {
    "scrolled": true
   },
   "outputs": [],
   "source": [
    "one_lag_results_xgb = functions.optimize_and_evaluate_one_lag(criptos_diff, xgb)"
   ]
  },
  {
   "cell_type": "code",
   "execution_count": null,
   "id": "a6927aeb-a744-45ba-8510-b7f42e0ad92b",
   "metadata": {},
   "outputs": [],
   "source": [
    "one_lag_results_xgb.to_excel(r\"C:\\Users\\Caio\\Documents\\Documentos\\IC - Cripto\\output_data\\results_xgb_ml.xlsx\")"
   ]
  },
  {
   "cell_type": "markdown",
   "id": "7494912b-8a4b-4796-9728-d87b484d9d34",
   "metadata": {},
   "source": [
    "## Adding exogenous variables"
   ]
  },
  {
   "cell_type": "code",
   "execution_count": null,
   "id": "837ad5fc-cf8e-44c6-b2ad-5018149f2357",
   "metadata": {
    "scrolled": true
   },
   "outputs": [],
   "source": [
    "y = criptos_diff['Bitcoin']\n",
    "X = criptos_diff.drop('Bitcoin', axis=1)"
   ]
  },
  {
   "cell_type": "code",
   "execution_count": null,
   "id": "c2a03289-5004-4046-b933-248fe13a536c",
   "metadata": {},
   "outputs": [],
   "source": [
    "y_diff = y.shift(1)\n",
    "\n",
    "y_diff.dropna(inplace=True)"
   ]
  },
  {
   "cell_type": "code",
   "execution_count": null,
   "id": "48546dad-6244-4032-914e-246822514c1e",
   "metadata": {},
   "outputs": [],
   "source": [
    "y_diff = pd.DataFrame(y_diff)"
   ]
  },
  {
   "cell_type": "code",
   "execution_count": null,
   "id": "bd15ec0e-9f1e-41f2-8739-73c846e01664",
   "metadata": {},
   "outputs": [],
   "source": [
    "X = pd.merge(X, y_diff, left_index=True, right_index=True)"
   ]
  },
  {
   "cell_type": "code",
   "execution_count": null,
   "id": "68dd15b8-b4a8-4cfc-890d-ecfc5d040337",
   "metadata": {},
   "outputs": [],
   "source": [
    "y = y.iloc[1:]"
   ]
  },
  {
   "cell_type": "markdown",
   "id": "09619fc7-e0d2-4592-9bf3-7f98565965a9",
   "metadata": {},
   "source": [
    "#### Decision tree"
   ]
  },
  {
   "cell_type": "code",
   "execution_count": null,
   "id": "4d52592d-f25b-42ab-9665-422a8fef9216",
   "metadata": {
    "scrolled": true
   },
   "outputs": [],
   "source": [
    "ml_results_tree = functions.optimize_and_evaluate(X, y, decision_tree, train_size=0.8)"
   ]
  },
  {
   "cell_type": "markdown",
   "id": "0ae8c5fb-91be-46c2-b922-ae44b98d8819",
   "metadata": {},
   "source": [
    "#### Random forest"
   ]
  },
  {
   "cell_type": "code",
   "execution_count": null,
   "id": "4f738e1d-acf1-42b7-a63b-d252b11b7352",
   "metadata": {},
   "outputs": [],
   "source": [
    "ml_results_rf = functions.optimize_and_evaluate(X, y, rf)"
   ]
  },
  {
   "cell_type": "code",
   "execution_count": null,
   "id": "9b6494d0-bd93-4857-8966-5593e47f53c4",
   "metadata": {
    "scrolled": true
   },
   "outputs": [],
   "source": [
    "ml_results_rf_2 = functions.optimize_and_evaluate(X, y, rf_2)"
   ]
  },
  {
   "cell_type": "markdown",
   "id": "db937c2c-a397-494e-8510-7774d7ac210e",
   "metadata": {},
   "source": [
    "#### Xgboost"
   ]
  },
  {
   "cell_type": "code",
   "execution_count": null,
   "id": "60ae5ff6-b050-4f2f-85c1-385033490a13",
   "metadata": {
    "scrolled": true
   },
   "outputs": [],
   "source": [
    "ml_results_xgb = functions.optimize_and_evaluate(X, y, xgb)"
   ]
  },
  {
   "cell_type": "markdown",
   "id": "83b8ea60-3eb6-4ef8-9cf8-a57e4f9e92c2",
   "metadata": {},
   "source": [
    "#### Saving to excel"
   ]
  },
  {
   "cell_type": "code",
   "execution_count": null,
   "id": "6cdacd4a-8fb0-4f97-8c8c-e4dc3c38d4b7",
   "metadata": {},
   "outputs": [],
   "source": [
    "ml_results_tree.to_excel(r\"C:\\Users\\Caio\\Documents\\Documentos\\IC - Cripto\\output_data\\results_tree_ml_exog.xlsx\")"
   ]
  },
  {
   "cell_type": "code",
   "execution_count": null,
   "id": "f9313575-b4b1-43ac-864b-f5f7380c23a7",
   "metadata": {},
   "outputs": [],
   "source": [
    "ml_results_rf.to_excel(r\"C:\\Users\\Caio\\Documents\\Documentos\\IC - Cripto\\output_data\\results_rf_ml_exog.xlsx\")"
   ]
  },
  {
   "cell_type": "code",
   "execution_count": null,
   "id": "3d01b03a-beef-44e5-b2ba-72a81c541f00",
   "metadata": {},
   "outputs": [],
   "source": [
    "ml_results_xgb.to_excel(r\"C:\\Users\\Caio\\Documents\\Documentos\\IC - Cripto\\output_data\\results_xgb_ml_exog.xlsx\")"
   ]
  }
 ],
 "metadata": {
  "kernelspec": {
   "display_name": "Python 3 (ipykernel)",
   "language": "python",
   "name": "python3"
  },
  "language_info": {
   "codemirror_mode": {
    "name": "ipython",
    "version": 3
   },
   "file_extension": ".py",
   "mimetype": "text/x-python",
   "name": "python",
   "nbconvert_exporter": "python",
   "pygments_lexer": "ipython3",
   "version": "3.13.0"
  }
 },
 "nbformat": 4,
 "nbformat_minor": 5
}
