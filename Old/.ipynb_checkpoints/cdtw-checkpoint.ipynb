{
 "cells": [
  {
   "cell_type": "markdown",
   "id": "bde6027a-b0a1-41a8-b13e-d5d55f137923",
   "metadata": {},
   "source": [
    "# CDTW\n",
    "\n",
    "The purpose of this file is to implement the Correlation based dynamic time warping of multivariate time series in python"
   ]
  },
  {
   "cell_type": "markdown",
   "id": "72c8d04f-76b5-46d6-a37a-7fe10ae6bccb",
   "metadata": {},
   "source": [
    "## Functions used in this project"
   ]
  },
  {
   "cell_type": "code",
   "execution_count": 2,
   "id": "d1375276-1f8f-42a0-ab7d-3123b5f9a7b7",
   "metadata": {},
   "outputs": [],
   "source": [
    "import numpy as np\n",
    "\n",
    "def spca(a, b):\n",
    "    \"\"\"\n",
    "    Krzanowski-similarity between a and b hyperplanes.\n",
    "    \"\"\"\n",
    "    Ks = np.trace(np.dot(a.T, np.dot(b, np.dot(b.T, a)))) / a.shape[1]\n",
    "    return Ks"
   ]
  },
  {
   "cell_type": "code",
   "execution_count": null,
   "id": "4e0d11a1-4123-4d05-8622-b349332a932f",
   "metadata": {},
   "outputs": [],
   "source": []
  }
 ],
 "metadata": {
  "kernelspec": {
   "display_name": "Python 3 (ipykernel)",
   "language": "python",
   "name": "python3"
  },
  "language_info": {
   "codemirror_mode": {
    "name": "ipython",
    "version": 3
   },
   "file_extension": ".py",
   "mimetype": "text/x-python",
   "name": "python",
   "nbconvert_exporter": "python",
   "pygments_lexer": "ipython3",
   "version": "3.8.10"
  }
 },
 "nbformat": 4,
 "nbformat_minor": 5
}
