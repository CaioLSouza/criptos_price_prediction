{
 "cells": [
  {
   "cell_type": "markdown",
   "id": "bde6027a-b0a1-41a8-b13e-d5d55f137923",
   "metadata": {},
   "source": [
    "# CDTW\n",
    "\n",
    "The purpose of this file is to implement the Correlation based dynamic time warping of multivariate time series in python"
   ]
  },
  {
   "cell_type": "markdown",
   "id": "72c8d04f-76b5-46d6-a37a-7fe10ae6bccb",
   "metadata": {},
   "source": [
    "## Functions used in this project"
   ]
  },
  {
   "cell_type": "code",
   "execution_count": 2,
   "id": "d1375276-1f8f-42a0-ab7d-3123b5f9a7b7",
   "metadata": {},
   "outputs": [],
   "source": [
    "import numpy as np\n",
    "\n",
    "def spca(a, b):\n",
    "    \"\"\"\n",
    "    Krzanowski-similarity between a and b hyperplanes.\n",
    "    \"\"\"\n",
    "    Ks = np.trace(np.dot(a.T, np.dot(b, np.dot(b.T, a)))) / a.shape[1]\n",
    "    return Ks"
   ]
  },
  {
   "cell_type": "code",
   "execution_count": 7,
   "id": "4e0d11a1-4123-4d05-8622-b349332a932f",
   "metadata": {},
   "outputs": [
    {
     "ename": "TypeError",
     "evalue": "dtw() got an unexpected keyword argument 'dist'",
     "output_type": "error",
     "traceback": [
      "\u001b[0;31m---------------------------------------------------------------------------\u001b[0m",
      "\u001b[0;31mTypeError\u001b[0m                                 Traceback (most recent call last)",
      "Cell \u001b[0;32mIn[7], line 16\u001b[0m\n\u001b[1;32m     13\u001b[0m     correlation \u001b[38;5;241m=\u001b[39m np\u001b[38;5;241m.\u001b[39mcorrcoef(ts1, ts2)[\u001b[38;5;241m0\u001b[39m, \u001b[38;5;241m1\u001b[39m]\n\u001b[1;32m     14\u001b[0m     \u001b[38;5;28;01mreturn\u001b[39;00m \u001b[38;5;241m1\u001b[39m \u001b[38;5;241m-\u001b[39m correlation  \u001b[38;5;66;03m# Convert correlation to distance\u001b[39;00m\n\u001b[0;32m---> 16\u001b[0m distance_corr \u001b[38;5;241m=\u001b[39m \u001b[43mdtw\u001b[49m\u001b[43m(\u001b[49m\u001b[43mts_a\u001b[49m\u001b[43m,\u001b[49m\u001b[43m \u001b[49m\u001b[43mts_b\u001b[49m\u001b[43m,\u001b[49m\u001b[43m \u001b[49m\u001b[43mdist\u001b[49m\u001b[38;5;241;43m=\u001b[39;49m\u001b[43mcorrelation_distance\u001b[49m\u001b[43m)\u001b[49m\n",
      "\u001b[0;31mTypeError\u001b[0m: dtw() got an unexpected keyword argument 'dist'"
     ]
    }
   ],
   "source": [
    "from tslearn.metrics import cdist_dtw\n",
    "from tslearn.metrics import dtw\n",
    "import numpy as np\n",
    "\n",
    "# Example time series\n",
    "ts_a = np.array([1, 2, 3, 4, 2, 1])\n",
    "ts_b = np.array([1, 2, 2, 3, 4, 2])\n",
    "# Standard DTW\n",
    "distance = dtw(ts_a, ts_b)\n",
    "\n",
    "# For correlation-based DTW, define a custom distance function\n",
    "def correlation_distance(ts1, ts2):\n",
    "    correlation = np.corrcoef(ts1, ts2)[0, 1]\n",
    "    return 1 - correlation  # Convert correlation to distance\n",
    "\n",
    "distance_corr = dtw(ts_a, ts_b, dist=correlation_distance)"
   ]
  },
  {
   "cell_type": "code",
   "execution_count": null,
   "id": "d3b38ef5-1478-46b8-90e3-f55281e51864",
   "metadata": {},
   "outputs": [],
   "source": []
  },
  {
   "cell_type": "code",
   "execution_count": null,
   "id": "ee773bca-8084-4eb5-a6cd-078cb8b48d4f",
   "metadata": {},
   "outputs": [],
   "source": []
  },
  {
   "cell_type": "code",
   "execution_count": null,
   "id": "03a5ca42-c9a0-4231-a049-f4d09e211b30",
   "metadata": {},
   "outputs": [],
   "source": []
  },
  {
   "cell_type": "code",
   "execution_count": null,
   "id": "1af8f8d6-4679-4421-a710-19d26c23f3af",
   "metadata": {},
   "outputs": [],
   "source": []
  }
 ],
 "metadata": {
  "kernelspec": {
   "display_name": "Python 3 (ipykernel)",
   "language": "python",
   "name": "python3"
  },
  "language_info": {
   "codemirror_mode": {
    "name": "ipython",
    "version": 3
   },
   "file_extension": ".py",
   "mimetype": "text/x-python",
   "name": "python",
   "nbconvert_exporter": "python",
   "pygments_lexer": "ipython3",
   "version": "3.8.10"
  }
 },
 "nbformat": 4,
 "nbformat_minor": 5
}
